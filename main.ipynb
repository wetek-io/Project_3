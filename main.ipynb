{
 "cells": [
  {
   "cell_type": "code",
   "execution_count": 1,
   "metadata": {},
   "outputs": [],
   "source": [
    "from transformers import OneFormerProcessor, OneFormerForUniversalSegmentation\n",
    "from torch.utils.data import DataLoader\n",
    "import matplotlib.pyplot as plt\n",
    "import torch.optim as optim\n",
    "import torch.nn as nn\n",
    "from PIL import Image\n",
    "import tensorflow\n",
    "import requests\n",
    "import torch\n",
    "import os"
   ]
  },
  {
   "cell_type": "code",
   "execution_count": 2,
   "metadata": {},
   "outputs": [],
   "source": [
    "from utils import UNet, SegmentationDataset\n",
    "\n",
    "dataset = SegmentationDataset(\"./images/\", \"./masks/\")\n",
    "dataloader = DataLoader(dataset)\n",
    "model = UNet(in_channels=3, out_channels=1)\n",
    "criterion = nn.BCEWithLogitsLoss()\n",
    "optimizer = optim.Adam(model.parameters(), lr=1e-4)"
   ]
  },
  {
   "cell_type": "markdown",
   "metadata": {},
   "source": [
    "This is just the training phase. I want to see how hard to it to train a model by hand. I also want to tru"
   ]
  },
  {
   "cell_type": "code",
   "execution_count": 5,
   "metadata": {},
   "outputs": [
    {
     "name": "stdout",
     "output_type": "stream",
     "text": [
      "Epoch [1/5], Loss: 0.6298\n",
      "Epoch [2/5], Loss: 0.6297\n",
      "Epoch [3/5], Loss: 0.6292\n",
      "Epoch [4/5], Loss: 0.6288\n",
      "Epoch [5/5], Loss: 0.6286\n",
      "Epoch [6/5], Loss: 0.6284\n",
      "Epoch [7/5], Loss: 0.6283\n",
      "Epoch [8/5], Loss: 0.6282\n",
      "Epoch [9/5], Loss: 0.6282\n",
      "Epoch [10/5], Loss: 0.6281\n",
      "Epoch [11/5], Loss: 0.6280\n",
      "Epoch [12/5], Loss: 0.6279\n",
      "Epoch [13/5], Loss: 0.6278\n",
      "Epoch [14/5], Loss: 0.6278\n",
      "Epoch [15/5], Loss: 0.6278\n",
      "Epoch [16/5], Loss: 0.6277\n",
      "Epoch [17/5], Loss: 0.6276\n",
      "Epoch [18/5], Loss: 0.6276\n",
      "Epoch [19/5], Loss: 0.6276\n",
      "Epoch [20/5], Loss: 0.6275\n",
      "Epoch [21/5], Loss: 0.6274\n",
      "Epoch [22/5], Loss: 0.6274\n",
      "Epoch [23/5], Loss: 0.6273\n",
      "Epoch [24/5], Loss: 0.6273\n",
      "Epoch [25/5], Loss: 0.6273\n"
     ]
    }
   ],
   "source": [
    "for epoch in range(25):  # Correct range for 5 epochs\n",
    "    model.train()\n",
    "    running_loss = 0.0  # Track loss for the epoch\n",
    "    for imgs, msks in dataloader:\n",
    "                \n",
    "        # Forward pass\n",
    "        outputs = model(imgs)\n",
    "        loss = criterion(outputs, msks)\n",
    "        \n",
    "        # Backward pass and optimization\n",
    "        optimizer.zero_grad()\n",
    "        loss.backward()\n",
    "        optimizer.step()\n",
    "        \n",
    "        # Accumulate loss for logging\n",
    "        running_loss += loss.item()\n",
    "    \n",
    "    # Log epoch loss\n",
    "    avg_loss = running_loss / len(dataloader)\n",
    "    print(f\"Epoch [{epoch+1}/5], Loss: {avg_loss:.4f}\")"
   ]
  },
  {
   "cell_type": "code",
   "execution_count": null,
   "metadata": {},
   "outputs": [],
   "source": []
  },
  {
   "cell_type": "code",
   "execution_count": null,
   "metadata": {},
   "outputs": [],
   "source": []
  }
 ],
 "metadata": {
  "kernelspec": {
   "display_name": "project_3",
   "language": "python",
   "name": "python3"
  },
  "language_info": {
   "codemirror_mode": {
    "name": "ipython",
    "version": 3
   },
   "file_extension": ".py",
   "mimetype": "text/x-python",
   "name": "python",
   "nbconvert_exporter": "python",
   "pygments_lexer": "ipython3",
   "version": "3.12.8"
  }
 },
 "nbformat": 4,
 "nbformat_minor": 2
}
