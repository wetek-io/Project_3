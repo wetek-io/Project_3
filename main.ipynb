{
 "cells": [
  {
   "cell_type": "code",
   "execution_count": 1,
   "metadata": {},
   "outputs": [],
   "source": [
    "from utils import UNet, SegmentationDataset\n",
    "from torch.utils.data import DataLoader\n",
    "import torch.optim as optim\n",
    "import torch.nn as nn\n",
    "\n",
    "dataset = SegmentationDataset(\"SA1B_Meta_AI_Segmentation_Dataset/\")\n",
    "dataloader = DataLoader(dataset, batch_size=50, shuffle=True)\n",
    "model = UNet(in_channels=3, out_channels=1)\n",
    "criterion = nn.BCEWithLogitsLoss()\n",
    "optimizer = optim.Adam(model.parameters(), lr=1e-4)"
   ]
  },
  {
   "cell_type": "code",
   "execution_count": 2,
   "metadata": {},
   "outputs": [],
   "source": [
    "def train_unet(model, dataset, epochs=10, lr=1e-4):\n",
    "    dataloader = DataLoader(dataset, batch_size=16, shuffle=True)\n",
    "    optimizer = optim.Adam(model.parameters(), lr=lr)\n",
    "    criterion = nn.BCELoss()  # For binary segmentation\n",
    "\n",
    "    model.train()\n",
    "    for epoch in range(epochs):\n",
    "        epoch_loss = 0.0\n",
    "        for imgs, masks in dataloader:\n",
    "            imgs, masks = imgs.cuda(), masks.cuda()  # Move to GPU if available\n",
    "\n",
    "            # Forward pass\n",
    "            preds = model(imgs)\n",
    "            loss = criterion(preds, masks.unsqueeze(1))  # Add channel dim to masks\n",
    "            epoch_loss += loss.item()\n",
    "\n",
    "            # Backward pass\n",
    "            optimizer.zero_grad()\n",
    "            loss.backward()\n",
    "            optimizer.step()\n",
    "\n",
    "        print(f\"Epoch {epoch + 1}/{epochs}, Loss: {epoch_loss / len(dataloader)}\")\n",
    "\n",
    "    return model"
   ]
  },
  {
   "cell_type": "code",
   "execution_count": null,
   "metadata": {},
   "outputs": [],
   "source": [
    "model.train()\n",
    "for epoch in range(2):\n",
    "\tepoch_loss = 0\n",
    "\tfor idx, (image, mask) in enumerate(dataloader):\n",
    "\t\toutputs = model(image)\n",
    "\t\tloss = criterion(outputs, mask)\n",
    "\t\toptimizer.zero_grad()\n",
    "\t\tloss.backward()\n",
    "\t\toptimizer.step()\n",
    "\t\tepoch_loss += loss.item()\n",
    "\t\t# outputs.weights\n",
    "\t\tprint(f'epoch: {epoch+1} | loss: {epoch_loss}')\n"
   ]
  },
  {
   "cell_type": "code",
   "execution_count": null,
   "metadata": {},
   "outputs": [],
   "source": [
    "print(dataset)"
   ]
  },
  {
   "cell_type": "code",
   "execution_count": 1,
   "metadata": {},
   "outputs": [],
   "source": [
    "import cherrypy\n",
    "\n",
    "\n",
    "class TryOnApp(object):\n",
    "    def __init__(self, reference_image):\n",
    "        self.reference_image = reference_image\n",
    "        \n",
    "    @cherrypy.expose\n",
    "    def display_reference(self):\n",
    "        cherrypy.response.headers['Content-Type'] = \"image/jpeg\"\n",
    "        with open(self.reference_image, \"rb\") as f:\n",
    "                return f.read()\n",
    "\n",
    "    @cherrypy.expose\n",
    "    def upload_image(self, image=None):\n",
    "        if image is not None:\n",
    "            # 'image' will be a file-like object\n",
    "            uploaded_data = image.file.read()\n",
    "            uploaded_filename = image.filename\n",
    "            return f\"Uploaded file: {uploaded_filename}, size: {len(uploaded_data)} bytes\"\n",
    "        else:\n",
    "            return '''\n",
    "            <html>\n",
    "                <body>\n",
    "                    Hello\n",
    "                </body>\n",
    "            </html>\n",
    "            '''\n",
    "\n",
    "    @cherrypy.expose\n",
    "    def index(self):\n",
    "        return '''\n",
    "        <html>\n",
    "            <head>\n",
    "                <link href=\"front_end/styles/styles.css\" rel=\"stylesheet\">\n",
    "            </head>\n",
    "            <body>\n",
    "                <h1>Image Display</h1>\n",
    "                <img src=\"/display_reference\" alt=\"My Image\">\n",
    "                <form action=\"upload\" method=\"post\" action=\"upload_image\" enctype=\"multipart/form-data\">\n",
    "                        <input type=\"file\" name=\"image\" />\n",
    "                        <button type=\"submit\">Upload</button>\n",
    "                </form>\n",
    "            </body>\n",
    "        </html>\n",
    "        '''\n",
    "        "
   ]
  },
  {
   "cell_type": "code",
   "execution_count": 2,
   "metadata": {},
   "outputs": [],
   "source": [
    "import os\n",
    "\n",
    "ref_img = os.path.relpath('front_end/Rebecca-Ingram-Adeline-Fit-and-Flare-Wedding-Dress-25RK278A01-PROMO1-IV.jpg')\n",
    "usr_img = os.path.relpath('flexing_01.png')"
   ]
  },
  {
   "cell_type": "code",
   "execution_count": 3,
   "metadata": {},
   "outputs": [
    {
     "name": "stderr",
     "output_type": "stream",
     "text": [
      "[25/Jan/2025:16:51:41] ENGINE Listening for SIGTERM.\n",
      "[25/Jan/2025:16:51:41] ENGINE Listening for SIGHUP.\n",
      "[25/Jan/2025:16:51:41] ENGINE Listening for SIGUSR1.\n",
      "[25/Jan/2025:16:51:41] ENGINE Bus STARTING\n",
      "CherryPy Checker:\n",
      "The Application mounted at '' has an empty config.\n",
      "\n",
      "[25/Jan/2025:16:51:41] ENGINE Started monitor thread 'Autoreloader'.\n",
      "[25/Jan/2025:16:51:41] ENGINE Serving on http://127.0.0.1:8080\n",
      "[25/Jan/2025:16:51:41] ENGINE Bus STARTED\n"
     ]
    },
    {
     "name": "stdout",
     "output_type": "stream",
     "text": [
      "127.0.0.1 - - [25/Jan/2025:16:51:45] \"GET / HTTP/1.1\" 200 408 \"\" \"Mozilla/5.0 (Macintosh; Intel Mac OS X 10_15_7) AppleWebKit/537.36 (KHTML, like Gecko) Chrome/132.0.0.0 Safari/537.36\"\n",
      "127.0.0.1 - - [25/Jan/2025:16:51:45] \"GET /display_reference HTTP/1.1\" 200 138708 \"http://127.0.0.1:8080/\" \"Mozilla/5.0 (Macintosh; Intel Mac OS X 10_15_7) AppleWebKit/537.36 (KHTML, like Gecko) Chrome/132.0.0.0 Safari/537.36\"\n",
      "127.0.0.1 - - [25/Jan/2025:16:51:45] \"GET /favicon.ico HTTP/1.1\" 200 1406 \"http://127.0.0.1:8080/\" \"Mozilla/5.0 (Macintosh; Intel Mac OS X 10_15_7) AppleWebKit/537.36 (KHTML, like Gecko) Chrome/132.0.0.0 Safari/537.36\"\n"
     ]
    },
    {
     "name": "stderr",
     "output_type": "stream",
     "text": [
      "[25/Jan/2025:16:53:27] ENGINE Keyboard Interrupt: shutting down bus\n",
      "[25/Jan/2025:16:53:27] ENGINE Bus STOPPING\n",
      "[25/Jan/2025:16:53:27] ENGINE HTTP Server cherrypy._cpwsgi_server.CPWSGIServer(('127.0.0.1', 8080)) shut down\n",
      "[25/Jan/2025:16:53:27] ENGINE Stopped thread 'Autoreloader'.\n",
      "[25/Jan/2025:16:53:27] ENGINE Bus STOPPED\n",
      "[25/Jan/2025:16:53:27] ENGINE Bus EXITING\n",
      "[25/Jan/2025:16:53:27] ENGINE Bus EXITED\n",
      "[25/Jan/2025:16:53:27] ENGINE Waiting for child threads to terminate...\n"
     ]
    }
   ],
   "source": [
    "if __name__ == '__main__':\n",
    "    cherrypy.quickstart(TryOnApp(reference_image=ref_img))"
   ]
  },
  {
   "cell_type": "code",
   "execution_count": null,
   "metadata": {},
   "outputs": [],
   "source": [
    "import cherrypy\n",
    "from PIL import Image, ImageDraw\n",
    "import io\n",
    "\n",
    "class MyApp:\n",
    "    @cherrypy.expose\n",
    "    def index(self):\n",
    "        return '''\n",
    "        <html>\n",
    "            <body>\n",
    "                <h1>Dynamic Image</h1>\n",
    "                <img src=\"/dynamic_image\" alt=\"Dynamic Image\">\n",
    "            </body>\n",
    "        </html>\n",
    "        '''\n",
    "\n",
    "    @cherrypy.expose\n",
    "    def dynamic_image(self):\n",
    "        # Create an image dynamically\n",
    "        image = Image.new(\"RGB\", (200, 100), color=(73, 109, 137))\n",
    "        draw = ImageDraw.Draw(image)\n",
    "        draw.text((10, 10), \"Hello, CherryPy!\", fill=(255, 255, 0))\n",
    "\n",
    "        # Save the image to an in-memory bytes buffer\n",
    "        buffer = io.BytesIO()\n",
    "        image.save(buffer, format=\"PNG\")\n",
    "        buffer.seek(0)\n",
    "\n",
    "        # Serve the image\n",
    "        cherrypy.response.headers['Content-Type'] = \"image/png\"\n",
    "        return buffer.read()\n",
    "\n",
    "# if __name__ == '__main__':\n",
    "#     cherrypy.quickstart(MyApp())"
   ]
  }
 ],
 "metadata": {
  "kernelspec": {
   "display_name": "project_3",
   "language": "python",
   "name": "python3"
  },
  "language_info": {
   "codemirror_mode": {
    "name": "ipython",
    "version": 3
   },
   "file_extension": ".py",
   "mimetype": "text/x-python",
   "name": "python",
   "nbconvert_exporter": "python",
   "pygments_lexer": "ipython3",
   "version": "3.12.8"
  }
 },
 "nbformat": 4,
 "nbformat_minor": 2
}
