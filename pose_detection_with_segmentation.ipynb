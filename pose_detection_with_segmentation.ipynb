{
 "cells": [
  {
   "cell_type": "code",
   "execution_count": 1,
   "metadata": {},
   "outputs": [],
   "source": [
    "import cv2 as cv\n",
    "import pandas as pd\n",
    "import matplotlib.pyplot as plt\n",
    "import numpy as np\n",
    "\n",
    "# Load the OpenPose model\n",
    "net = cv.dnn.readNetFromTensorflow(\"human-pose-estimation-opencv-master/graph_opt.pb\")\n",
    "\n",
    "# Input dimensions and confidence threshold\n",
    "inWidth = 368\n",
    "inHeight = 368\n",
    "thr = 0.2"
   ]
  },
  {
   "cell_type": "code",
   "execution_count": 2,
   "metadata": {},
   "outputs": [],
   "source": [
    "img = cv.imread(\"pose1.png\")"
   ]
  },
  {
   "cell_type": "code",
   "execution_count": 3,
   "metadata": {},
   "outputs": [
    {
     "data": {
      "text/plain": [
       "<matplotlib.image.AxesImage at 0x347f26aa0>"
      ]
     },
     "execution_count": 3,
     "metadata": {},
     "output_type": "execute_result"
    }
   ],
   "source": [
    "plt.imshow(img)"
   ]
  },
  {
   "cell_type": "code",
   "execution_count": 4,
   "metadata": {},
   "outputs": [],
   "source": [
    "BODY_PARTS = {\n",
    "    \"Nose\": 0,\n",
    "    \"Neck\": 1,\n",
    "    \"RShoulder\": 2,\n",
    "    \"RElbow\": 3,\n",
    "    \"RWrist\": 4,\n",
    "    \"LShoulder\": 5,\n",
    "    \"LElbow\": 6,\n",
    "    \"LWrist\": 7,\n",
    "    \"RHip\": 8,\n",
    "    \"RKnee\": 9,\n",
    "    \"RAnkle\": 10,\n",
    "    \"LHip\": 11,\n",
    "    \"LKnee\": 12,\n",
    "    \"LAnkle\": 13,\n",
    "    \"REye\": 14,\n",
    "    \"LEye\": 15,\n",
    "    \"REar\": 16,\n",
    "    \"LEar\": 17,\n",
    "    \"Background\": 18,\n",
    "}\n",
    "\n",
    "POSE_PAIRS = [\n",
    "    [\"Neck\", \"RShoulder\"],\n",
    "    [\"Neck\", \"LShoulder\"],\n",
    "    [\"RShoulder\", \"RElbow\"],\n",
    "    [\"RElbow\", \"RWrist\"],\n",
    "    [\"LShoulder\", \"LElbow\"],\n",
    "    [\"LElbow\", \"LWrist\"],\n",
    "    [\"Neck\", \"RHip\"],\n",
    "    [\"RHip\", \"RKnee\"],\n",
    "    [\"RKnee\", \"RAnkle\"],\n",
    "    [\"Neck\", \"LHip\"],\n",
    "    [\"LHip\", \"LKnee\"],\n",
    "    [\"LKnee\", \"LAnkle\"],\n",
    "    [\"Neck\", \"Nose\"],\n",
    "    [\"Nose\", \"REye\"],\n",
    "    [\"REye\", \"REar\"],\n",
    "    [\"Nose\", \"LEye\"],\n",
    "    [\"LEye\", \"LEar\"],\n",
    "]\n",
    "\n",
    "\n",
    "def pose_estimation(frame):\n",
    "    frameWidth = frame.shape[1]\n",
    "    frameHeight = frame.shape[0]\n",
    "    net.setInput(\n",
    "        cv.dnn.blobFromImage(\n",
    "            frame,\n",
    "            1.0,\n",
    "            (inWidth, inHeight),\n",
    "            (127.5, 127.5, 127.5),\n",
    "            swapRB=True,\n",
    "            crop=False,\n",
    "        )\n",
    "    )\n",
    "    out = net.forward()\n",
    "    out = out[:, :19, :, :]\n",
    "\n",
    "    assert len(BODY_PARTS) == out.shape[1]\n",
    "\n",
    "    points = []\n",
    "\n",
    "    for i in range(len(BODY_PARTS)):\n",
    "        # Slice heatmap of corresponding body's part\n",
    "        heatMap = out[0, i, :, :]\n",
    "\n",
    "        # Find the global maximum in the heatmap\n",
    "        _, conf, _, point = cv.minMaxLoc(heatMap)\n",
    "        x = (frameWidth * point[0]) / out.shape[3]\n",
    "        y = (frameHeight * point[1]) / out.shape[2]\n",
    "        # Add a point if its confidence is higher than the threshold\n",
    "        points.append((int(x), int(y)) if conf > thr else None)\n",
    "\n",
    "    # Define body parts to keep (head, torso, arms)\n",
    "    body_parts_to_keep = [\"Nose\", \"Neck\", \"RShoulder\", \"RElbow\", \"LShoulder\", \"LElbow\"]\n",
    "\n",
    "    box_size = 125  # Half-width and half-height of the box\n",
    "\n",
    "    # Create a copy of the frame to modify\n",
    "    output_frame = frame.copy()\n",
    "\n",
    "    # Set everything initially to white\n",
    "    output_frame[:, :] = (255, 255, 255)\n",
    "\n",
    "    for part in body_parts_to_keep:\n",
    "        part_id = BODY_PARTS[part]\n",
    "\n",
    "        # Check if the keypoint exists and is valid\n",
    "        if points[part_id]:\n",
    "            x, y = points[part_id]\n",
    "\n",
    "            # Define the rectangular region for the body part\n",
    "            top_left = (max(0, x - box_size), max(0, y - box_size))\n",
    "            bottom_right = (\n",
    "                min(frameWidth, x + box_size),\n",
    "                min(frameHeight, y + box_size),\n",
    "            )\n",
    "\n",
    "            # Copy the rectangular region from the original frame to the output frame\n",
    "            output_frame[\n",
    "                top_left[1] : bottom_right[1], top_left[0] : bottom_right[0]\n",
    "            ] = frame[top_left[1] : bottom_right[1], top_left[0] : bottom_right[0]]\n",
    "\n",
    "    return output_frame"
   ]
  },
  {
   "cell_type": "code",
   "execution_count": 5,
   "metadata": {},
   "outputs": [],
   "source": [
    "estimated_image = pose_estimation(img)"
   ]
  },
  {
   "cell_type": "code",
   "execution_count": 6,
   "metadata": {},
   "outputs": [],
   "source": [
    "# estimated_image = plt.imshow(estimated_image)"
   ]
  },
  {
   "cell_type": "code",
   "execution_count": null,
   "metadata": {},
   "outputs": [
    {
     "name": "stderr",
     "output_type": "stream",
     "text": [
      "2025-02-05 17:18:23.884 python[4617:263124] +[IMKClient subclass]: chose IMKClient_Modern\n",
      "2025-02-05 17:18:23.884 python[4617:263124] +[IMKInputSession subclass]: chose IMKInputSession_Modern\n"
     ]
    }
   ],
   "source": [
    "cv.imshow(\"Extracted Body Parts\", estimated_image)\n",
    "cv.imwrite(\"extracted_body_parts.png\", estimated_image)\n",
    "cv.waitKey(5000)\n",
    "cv.destroyAllWindows()"
   ]
  },
  {
   "cell_type": "code",
   "execution_count": null,
   "metadata": {},
   "outputs": [],
   "source": []
  },
  {
   "cell_type": "code",
   "execution_count": null,
   "metadata": {},
   "outputs": [],
   "source": []
  },
  {
   "cell_type": "code",
   "execution_count": null,
   "metadata": {},
   "outputs": [],
   "source": []
  },
  {
   "cell_type": "code",
   "execution_count": null,
   "metadata": {},
   "outputs": [],
   "source": []
  },
  {
   "cell_type": "code",
   "execution_count": null,
   "metadata": {},
   "outputs": [],
   "source": []
  }
 ],
 "metadata": {
  "kernelspec": {
   "display_name": "project_3",
   "language": "python",
   "name": "python3"
  },
  "language_info": {
   "codemirror_mode": {
    "name": "ipython",
    "version": 3
   },
   "file_extension": ".py",
   "mimetype": "text/x-python",
   "name": "python",
   "nbconvert_exporter": "python",
   "pygments_lexer": "ipython3",
   "version": "3.10.16"
  }
 },
 "nbformat": 4,
 "nbformat_minor": 2
}
